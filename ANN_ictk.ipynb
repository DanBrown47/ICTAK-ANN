{
  "cells": [
    {
      "cell_type": "code",
      "execution_count": 3,
      "metadata": {
        "id": "iuDzBIVnvOUc"
      },
      "outputs": [],
      "source": [
        "import pandas as pd"
      ]
    },
    {
      "cell_type": "code",
      "execution_count": 4,
      "metadata": {
        "id": "XzFPgZzPvp5y"
      },
      "outputs": [],
      "source": [
        "df = pd.read_csv(\"breastcancer.csv\")"
      ]
    },
    {
      "cell_type": "code",
      "execution_count": 5,
      "metadata": {
        "colab": {
          "base_uri": "https://localhost:8080/"
        },
        "id": "jgWXKusHvuz_",
        "outputId": "18d83184-df62-4f29-f343-f3ba25ebb8e6"
      },
      "outputs": [
        {
          "output_type": "execute_result",
          "data": {
            "text/plain": [
              "Index(['id', 'diagnosis', 'radius_mean', 'texture_mean', 'perimeter_mean',\n",
              "       'area_mean', 'smoothness_mean', 'compactness_mean', 'concavity_mean',\n",
              "       'concave points_mean', 'symmetry_mean', 'fractal_dimension_mean',\n",
              "       'radius_se', 'texture_se', 'perimeter_se', 'area_se', 'smoothness_se',\n",
              "       'compactness_se', 'concavity_se', 'concave points_se', 'symmetry_se',\n",
              "       'fractal_dimension_se', 'radius_worst', 'texture_worst',\n",
              "       'perimeter_worst', 'area_worst', 'smoothness_worst',\n",
              "       'compactness_worst', 'concavity_worst', 'concave points_worst',\n",
              "       'symmetry_worst', 'fractal_dimension_worst', 'Unnamed: 32'],\n",
              "      dtype='object')"
            ]
          },
          "metadata": {},
          "execution_count": 5
        }
      ],
      "source": [
        "df.columns"
      ]
    },
    {
      "cell_type": "code",
      "execution_count": 6,
      "metadata": {
        "colab": {
          "base_uri": "https://localhost:8080/"
        },
        "id": "WBV-ReCQv0qc",
        "outputId": "36807a64-0110-4655-f122-527991860463"
      },
      "outputs": [
        {
          "output_type": "execute_result",
          "data": {
            "text/plain": [
              "id                           0\n",
              "diagnosis                    0\n",
              "radius_mean                  0\n",
              "texture_mean                 0\n",
              "perimeter_mean               0\n",
              "area_mean                    0\n",
              "smoothness_mean              0\n",
              "compactness_mean             0\n",
              "concavity_mean               0\n",
              "concave points_mean          0\n",
              "symmetry_mean                0\n",
              "fractal_dimension_mean       0\n",
              "radius_se                    0\n",
              "texture_se                   0\n",
              "perimeter_se                 0\n",
              "area_se                      0\n",
              "smoothness_se                0\n",
              "compactness_se               0\n",
              "concavity_se                 0\n",
              "concave points_se            0\n",
              "symmetry_se                  0\n",
              "fractal_dimension_se         0\n",
              "radius_worst                 0\n",
              "texture_worst                0\n",
              "perimeter_worst              0\n",
              "area_worst                   0\n",
              "smoothness_worst             0\n",
              "compactness_worst            0\n",
              "concavity_worst              0\n",
              "concave points_worst         0\n",
              "symmetry_worst               0\n",
              "fractal_dimension_worst      0\n",
              "Unnamed: 32                569\n",
              "dtype: int64"
            ]
          },
          "metadata": {},
          "execution_count": 6
        }
      ],
      "source": [
        "df.isna().sum() # Find null in it"
      ]
    },
    {
      "cell_type": "code",
      "execution_count": 7,
      "metadata": {
        "id": "c8Cb_VCHwBTZ"
      },
      "outputs": [],
      "source": [
        "x = df[[ 'radius_mean', 'texture_mean', 'perimeter_mean',\n",
        "       'area_mean', 'smoothness_mean', 'compactness_mean', 'concavity_mean',\n",
        "       'concave points_mean', 'symmetry_mean', 'fractal_dimension_mean',\n",
        "       'radius_se', 'texture_se', 'perimeter_se', 'area_se', 'smoothness_se',\n",
        "       'compactness_se', 'concavity_se', 'concave points_se', 'symmetry_se',\n",
        "       'fractal_dimension_se', 'radius_worst', 'texture_worst',\n",
        "       'perimeter_worst', 'area_worst', 'smoothness_worst',\n",
        "       'compactness_worst', 'concavity_worst', 'concave points_worst',\n",
        "       'symmetry_worst', 'fractal_dimension_worst']]"
      ]
    },
    {
      "cell_type": "code",
      "execution_count": 8,
      "metadata": {
        "id": "VxFFlWGSwPQ6"
      },
      "outputs": [],
      "source": [
        "y = df['diagnosis']"
      ]
    },
    {
      "cell_type": "code",
      "execution_count": 9,
      "metadata": {
        "colab": {
          "base_uri": "https://localhost:8080/"
        },
        "id": "1A2yIpuVwT4q",
        "outputId": "55bba2d6-b71f-447b-85e4-1e1f2f701b8e"
      },
      "outputs": [
        {
          "output_type": "execute_result",
          "data": {
            "text/plain": [
              "B    357\n",
              "M    212\n",
              "Name: diagnosis, dtype: int64"
            ]
          },
          "metadata": {},
          "execution_count": 9
        }
      ],
      "source": [
        "y.value_counts()"
      ]
    },
    {
      "cell_type": "code",
      "execution_count": 10,
      "metadata": {
        "id": "eZdmKLC6wU4S"
      },
      "outputs": [],
      "source": [
        "y  = y.map({\"B\":0,\"M\":1})"
      ]
    },
    {
      "cell_type": "code",
      "execution_count": 11,
      "metadata": {
        "id": "NXqNESkVwfsV"
      },
      "outputs": [],
      "source": [
        "from sklearn.model_selection import train_test_split"
      ]
    },
    {
      "cell_type": "code",
      "execution_count": 12,
      "metadata": {
        "id": "MlOUwLc8wpK8"
      },
      "outputs": [],
      "source": [
        "x_train, x_test, y_train, y_test = train_test_split(x,y,\n",
        "                                                     test_size=0.2,\n",
        "                                                     random_state = 134)"
      ]
    },
    {
      "cell_type": "code",
      "execution_count": 13,
      "metadata": {
        "colab": {
          "base_uri": "https://localhost:8080/"
        },
        "id": "DAFGrVTrxaht",
        "outputId": "01f8b415-13fa-4893-bac0-8ea05266a1a5"
      },
      "outputs": [
        {
          "output_type": "execute_result",
          "data": {
            "text/plain": [
              "(455, 30)"
            ]
          },
          "metadata": {},
          "execution_count": 13
        }
      ],
      "source": [
        "\n",
        "\n",
        "x_train.shape"
      ]
    },
    {
      "cell_type": "code",
      "execution_count": 22,
      "metadata": {
        "id": "I95cXZ8Zwzcv"
      },
      "outputs": [],
      "source": [
        "from tensorflow.keras.models import Sequential"
      ]
    },
    {
      "cell_type": "code",
      "execution_count": 23,
      "metadata": {
        "id": "iE_jtd__xHOc"
      },
      "outputs": [],
      "source": [
        "from tensorflow.keras.layers import Dense"
      ]
    },
    {
      "cell_type": "code",
      "execution_count": 25,
      "metadata": {
        "id": "fpIpqLXu4tN8"
      },
      "outputs": [],
      "source": [
        "x = df[['radius_mean', 'texture_mean', 'perimeter_mean',\n",
        "       'area_mean', 'smoothness_mean', 'compactness_mean', 'concavity_mean',\n",
        "       'concave points_mean', 'symmetry_mean', 'fractal_dimension_mean',\n",
        "       'radius_se', 'texture_se', 'perimeter_se', 'area_se', 'smoothness_se',\n",
        "       'compactness_se', 'concavity_se', 'concave points_se', 'symmetry_se',\n",
        "       'fractal_dimension_se', ]]"
      ]
    },
    {
      "cell_type": "code",
      "execution_count": 26,
      "metadata": {
        "id": "egBMAcrx50Hl"
      },
      "outputs": [],
      "source": [
        "y = df['diagnosis']"
      ]
    },
    {
      "cell_type": "code",
      "execution_count": 27,
      "metadata": {
        "colab": {
          "base_uri": "https://localhost:8080/"
        },
        "id": "GV-phcLu53De",
        "outputId": "6f18cbc1-6b01-4507-dc70-c68009f516e6"
      },
      "outputs": [
        {
          "output_type": "execute_result",
          "data": {
            "text/plain": [
              "B    357\n",
              "M    212\n",
              "Name: diagnosis, dtype: int64"
            ]
          },
          "metadata": {},
          "execution_count": 27
        }
      ],
      "source": [
        "y.value_counts()"
      ]
    },
    {
      "cell_type": "code",
      "execution_count": 28,
      "metadata": {
        "id": "pc6M9nf96C_o"
      },
      "outputs": [],
      "source": [
        "y  = y.map({\"B\":0,\"M\":1})"
      ]
    },
    {
      "cell_type": "code",
      "execution_count": 29,
      "metadata": {
        "id": "bOlYsbp-6HHe"
      },
      "outputs": [],
      "source": [
        "from sklearn.model_selection import train_test_split"
      ]
    },
    {
      "cell_type": "code",
      "execution_count": 30,
      "metadata": {
        "id": "SiqEcHRN6KsY"
      },
      "outputs": [],
      "source": [
        "x_train, x_test, y_train, y_test = train_test_split(x,y,\n",
        "                                                     test_size=0.2,\n",
        "                                                     random_state = 134)"
      ]
    },
    {
      "cell_type": "code",
      "execution_count": 31,
      "metadata": {
        "colab": {
          "base_uri": "https://localhost:8080/"
        },
        "id": "2NerYBZC6OZD",
        "outputId": "29f64193-5313-4b94-c0ae-afa5b9ae47a8"
      },
      "outputs": [
        {
          "output_type": "execute_result",
          "data": {
            "text/plain": [
              "(455, 20)"
            ]
          },
          "metadata": {},
          "execution_count": 31
        }
      ],
      "source": [
        "x_train.shape"
      ]
    },
    {
      "cell_type": "code",
      "execution_count": 32,
      "metadata": {
        "id": "iz3a7Jk-6RdJ"
      },
      "outputs": [],
      "source": [
        "from tensorflow.keras.models import Sequential"
      ]
    },
    {
      "cell_type": "code",
      "execution_count": 33,
      "metadata": {
        "id": "NnsTJYrX6VSr"
      },
      "outputs": [],
      "source": [
        "from tensorflow.keras.layers import Dense"
      ]
    },
    {
      "cell_type": "code",
      "execution_count": 34,
      "metadata": {
        "id": "80C4FdyURc4a"
      },
      "outputs": [],
      "source": [
        "from keras.optimizers import Adam"
      ]
    },
    {
      "cell_type": "code",
      "execution_count": 40,
      "metadata": {
        "id": "KqXidtg363zB"
      },
      "outputs": [],
      "source": [
        "model = Sequential()\n",
        "model.add(Dense(64, activation='relu', input_dim=x_train.shape[1]))\n",
        "model.add(Dense(32, activation='relu'))\n",
        "model.add(Dense(16, activation='relu'))\n",
        "model.add(Dense(1, activation='sigmoid'))"
      ]
    },
    {
      "cell_type": "code",
      "execution_count": 41,
      "metadata": {
        "id": "NSSSXDd_RoJF"
      },
      "outputs": [],
      "source": [
        "# Adam rate to 0.01 more faster\n",
        "adam = Adam(learning_rate=0.01)\n",
        "model.compile(loss='binary_crossentropy', optimizer=adam, metrics=['accuracy'])"
      ]
    },
    {
      "cell_type": "code",
      "execution_count": 42,
      "metadata": {
        "colab": {
          "base_uri": "https://localhost:8080/"
        },
        "id": "nPEn1dVT7KDU",
        "outputId": "f32b96dd-64b5-4dc6-85b5-cf793c03cca1"
      },
      "outputs": [
        {
          "output_type": "stream",
          "name": "stdout",
          "text": [
            "Epoch 1/10\n",
            "15/15 [==============================] - 1s 5ms/step - loss: 5.5466 - accuracy: 0.4527\n",
            "Epoch 2/10\n",
            "15/15 [==============================] - 0s 5ms/step - loss: 1.0228 - accuracy: 0.5231\n",
            "Epoch 3/10\n",
            "15/15 [==============================] - 0s 5ms/step - loss: 0.6527 - accuracy: 0.6857\n",
            "Epoch 4/10\n",
            "15/15 [==============================] - 0s 5ms/step - loss: 0.3926 - accuracy: 0.8440\n",
            "Epoch 5/10\n",
            "15/15 [==============================] - 0s 5ms/step - loss: 0.3630 - accuracy: 0.8615\n",
            "Epoch 6/10\n",
            "15/15 [==============================] - 0s 4ms/step - loss: 0.3666 - accuracy: 0.8484\n",
            "Epoch 7/10\n",
            "15/15 [==============================] - 0s 5ms/step - loss: 0.3399 - accuracy: 0.8615\n",
            "Epoch 8/10\n",
            "15/15 [==============================] - 0s 5ms/step - loss: 0.3340 - accuracy: 0.8791\n",
            "Epoch 9/10\n",
            "15/15 [==============================] - 0s 5ms/step - loss: 0.3848 - accuracy: 0.8505\n",
            "Epoch 10/10\n",
            "15/15 [==============================] - 0s 5ms/step - loss: 0.4263 - accuracy: 0.8198\n"
          ]
        },
        {
          "output_type": "execute_result",
          "data": {
            "text/plain": [
              "<keras.callbacks.History at 0x7f7f6ee0bc70>"
            ]
          },
          "metadata": {},
          "execution_count": 42
        }
      ],
      "source": [
        "model.fit(x_train, y_train, epochs = 10)"
      ]
    },
    {
      "cell_type": "code",
      "execution_count": 43,
      "metadata": {
        "id": "pKeuR5XdSt8p"
      },
      "outputs": [],
      "source": [
        "# Change the learning rate to 0.01\n",
        "adam = Adam(learning_rate=0.1)\n",
        "model2.compile(loss='binary_crossentropy', optimizer=adam, metrics=['accuracy'])"
      ]
    },
    {
      "cell_type": "code",
      "execution_count": 44,
      "metadata": {
        "colab": {
          "base_uri": "https://localhost:8080/"
        },
        "id": "tzHhVhJHSwo2",
        "outputId": "50b742c2-b1c8-44aa-a8b8-35b049f62278"
      },
      "outputs": [
        {
          "output_type": "stream",
          "name": "stdout",
          "text": [
            "Epoch 1/10\n",
            "15/15 [==============================] - 1s 3ms/step - loss: 20.7977 - accuracy: 0.5319\n",
            "Epoch 2/10\n",
            "15/15 [==============================] - 0s 3ms/step - loss: 0.6647 - accuracy: 0.6308\n",
            "Epoch 3/10\n",
            "15/15 [==============================] - 0s 3ms/step - loss: 0.6606 - accuracy: 0.6308\n",
            "Epoch 4/10\n",
            "15/15 [==============================] - 0s 3ms/step - loss: 0.6592 - accuracy: 0.6308\n",
            "Epoch 5/10\n",
            "15/15 [==============================] - 0s 3ms/step - loss: 0.6593 - accuracy: 0.6308\n",
            "Epoch 6/10\n",
            "15/15 [==============================] - 0s 3ms/step - loss: 0.6605 - accuracy: 0.6308\n",
            "Epoch 7/10\n",
            "15/15 [==============================] - 0s 3ms/step - loss: 0.6586 - accuracy: 0.6308\n",
            "Epoch 8/10\n",
            "15/15 [==============================] - 0s 3ms/step - loss: 0.6624 - accuracy: 0.6308\n",
            "Epoch 9/10\n",
            "15/15 [==============================] - 0s 3ms/step - loss: 0.6599 - accuracy: 0.6308\n",
            "Epoch 10/10\n",
            "15/15 [==============================] - 0s 3ms/step - loss: 0.6605 - accuracy: 0.6308\n"
          ]
        },
        {
          "output_type": "execute_result",
          "data": {
            "text/plain": [
              "<keras.callbacks.History at 0x7f7f6ed41600>"
            ]
          },
          "metadata": {},
          "execution_count": 44
        }
      ],
      "source": [
        "model2.fit(x_train, y_train, epochs = 10)"
      ]
    }
  ],
  "metadata": {
    "accelerator": "GPU",
    "colab": {
      "provenance": []
    },
    "gpuClass": "standard",
    "kernelspec": {
      "display_name": "Python 3 (ipykernel)",
      "language": "python",
      "name": "python3"
    },
    "language_info": {
      "codemirror_mode": {
        "name": "ipython",
        "version": 3
      },
      "file_extension": ".py",
      "mimetype": "text/x-python",
      "name": "python",
      "nbconvert_exporter": "python",
      "pygments_lexer": "ipython3",
      "version": "3.10.6"
    }
  },
  "nbformat": 4,
  "nbformat_minor": 0
}